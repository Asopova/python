{
 "cells": [
  {
   "cell_type": "code",
   "execution_count": 1,
   "id": "3b495834",
   "metadata": {},
   "outputs": [],
   "source": [
    "#Домашнее задание к лекции \"Базовые понятия статистики\"\n",
    "\n",
    "#Задание 1. Загрузка данных\n",
    "#Изучить представленный набор данных на основе описания его столбцов \n",
    "#оставить 8 столбцов : surgery?, Age, rectal temperature, pulse, respiratory rate, temperature of extremities, pain, outcome.\n",
    "\n",
    "#Задание 2. Первичное изучение данных\n",
    "#Проанализировать значения по столбцам, рассчитать базовые статистики, найти выбросы.\n",
    "\n",
    "#Задание 3. Работа с пропусками\n",
    "#Рассчитать количество пропусков для всех выбранных столбцов. Принять и обосновать решение о методе заполнения пропусков по каждому столбцу на основе рассчитанных статистик и возможной взаимосвязи значений в них. Сформировать датафрейм, в котором пропуски будут отсутствовать."
   ]
  },
  {
   "cell_type": "code",
   "execution_count": 7,
   "id": "0c5770da",
   "metadata": {},
   "outputs": [
    {
     "data": {
      "text/html": [
       "<div>\n",
       "<style scoped>\n",
       "    .dataframe tbody tr th:only-of-type {\n",
       "        vertical-align: middle;\n",
       "    }\n",
       "\n",
       "    .dataframe tbody tr th {\n",
       "        vertical-align: top;\n",
       "    }\n",
       "\n",
       "    .dataframe thead th {\n",
       "        text-align: right;\n",
       "    }\n",
       "</style>\n",
       "<table border=\"1\" class=\"dataframe\">\n",
       "  <thead>\n",
       "    <tr style=\"text-align: right;\">\n",
       "      <th></th>\n",
       "      <th>surgery</th>\n",
       "      <th>age</th>\n",
       "      <th>rectal_temperature</th>\n",
       "      <th>pulse</th>\n",
       "      <th>respiratory_rate</th>\n",
       "      <th>temperature_of_extremities</th>\n",
       "      <th>pain</th>\n",
       "      <th>outcome</th>\n",
       "    </tr>\n",
       "  </thead>\n",
       "  <tbody>\n",
       "    <tr>\n",
       "      <th>0</th>\n",
       "      <td>1</td>\n",
       "      <td>1</td>\n",
       "      <td>39.2</td>\n",
       "      <td>88.0</td>\n",
       "      <td>20.0</td>\n",
       "      <td>NaN</td>\n",
       "      <td>3</td>\n",
       "      <td>3</td>\n",
       "    </tr>\n",
       "    <tr>\n",
       "      <th>1</th>\n",
       "      <td>2</td>\n",
       "      <td>1</td>\n",
       "      <td>38.3</td>\n",
       "      <td>40.0</td>\n",
       "      <td>24.0</td>\n",
       "      <td>1.0</td>\n",
       "      <td>3</td>\n",
       "      <td>1</td>\n",
       "    </tr>\n",
       "    <tr>\n",
       "      <th>2</th>\n",
       "      <td>1</td>\n",
       "      <td>9</td>\n",
       "      <td>39.1</td>\n",
       "      <td>164.0</td>\n",
       "      <td>84.0</td>\n",
       "      <td>4.0</td>\n",
       "      <td>2</td>\n",
       "      <td>2</td>\n",
       "    </tr>\n",
       "    <tr>\n",
       "      <th>3</th>\n",
       "      <td>2</td>\n",
       "      <td>1</td>\n",
       "      <td>37.3</td>\n",
       "      <td>104.0</td>\n",
       "      <td>35.0</td>\n",
       "      <td>NaN</td>\n",
       "      <td>&lt;NA&gt;</td>\n",
       "      <td>2</td>\n",
       "    </tr>\n",
       "    <tr>\n",
       "      <th>4</th>\n",
       "      <td>2</td>\n",
       "      <td>1</td>\n",
       "      <td>NaN</td>\n",
       "      <td>NaN</td>\n",
       "      <td>NaN</td>\n",
       "      <td>2.0</td>\n",
       "      <td>2</td>\n",
       "      <td>1</td>\n",
       "    </tr>\n",
       "  </tbody>\n",
       "</table>\n",
       "</div>"
      ],
      "text/plain": [
       "   surgery  age  rectal_temperature  pulse  respiratory_rate  \\\n",
       "0        1    1                39.2   88.0              20.0   \n",
       "1        2    1                38.3   40.0              24.0   \n",
       "2        1    9                39.1  164.0              84.0   \n",
       "3        2    1                37.3  104.0              35.0   \n",
       "4        2    1                 NaN    NaN               NaN   \n",
       "\n",
       "   temperature_of_extremities  pain  outcome  \n",
       "0                         NaN     3        3  \n",
       "1                         1.0     3        1  \n",
       "2                         4.0     2        2  \n",
       "3                         NaN  <NA>        2  \n",
       "4                         2.0     2        1  "
      ]
     },
     "execution_count": 7,
     "metadata": {},
     "output_type": "execute_result"
    }
   ],
   "source": [
    "import pandas as pd\n",
    "horse_data = pd.read_csv('https://raw.githubusercontent.com/obulygin/pyda_homeworks/master/statistics_basics/horse_data.csv', names = ['surgery', 'age', 'Hospital_Number', 'rectal_temperature',\\\n",
    "                                                    'pulse', 'respiratory_rate', 'temperature_of_extremities', \\\n",
    "                                                    'peripheral_pulse', 'mucous_membranes', 'capillary_refill_time', \\\n",
    "                                                    'pain', 'peristalsis', 'abdominal_distension', 'nasogastric_tube', \\\n",
    "                                                    'nasogastric_reflux', 'nasogastric_reflux_PH', 'rectal_examination_-_feces',\\\n",
    "                                                    'abdomen', 'packed_cell_volume', 'total_protein', \\\n",
    "                                                    'abdominocentesis_appearance', 'abdomcentesis_total_protein', 'outcome', \\\n",
    "                                                    'surgical_lesion?', 'site_of_lesion', 'type', 'specific_code', 'cp_data'], \\\n",
    "                         sep = ',', header=0, na_values='?')\n",
    "horse_data = horse_data[['surgery', 'age', 'rectal_temperature', 'pulse', 'respiratory_rate', 'temperature_of_extremities', \\\n",
    "                         'pain', 'outcome']]\n",
    "horse_data['surgery'] = horse_data.surgery.astype('Int64')\n",
    "horse_data['pain'] = horse_data.pain.astype('Int64')\n",
    "horse_data['outcome'] = horse_data.outcome.astype('Int64')\n",
    "horse_data.head()"
   ]
  },
  {
   "cell_type": "code",
   "execution_count": 12,
   "id": "f582cc25",
   "metadata": {},
   "outputs": [
    {
     "name": "stdout",
     "output_type": "stream",
     "text": [
      "<IntegerArray>\n",
      "[1, 2, <NA>]\n",
      "Length: 3, dtype: Int64\n",
      "[1 9]\n",
      "[39.2 38.3 39.1 37.3  nan 37.9 38.1 37.2 38.  38.2 37.6 37.5 39.4 39.9\n",
      " 38.4 38.6 37.8 37.7 39.  35.4 38.9 37.4 40.3 38.5 37.  39.7 38.7 36.4\n",
      " 38.8 39.6 36.8 39.5 36.5 36.  37.1 39.3 36.1 36.6 40.8 36.9 40. ]\n",
      "[ 88.  40. 164. 104.  nan  48.  60.  80.  90.  66.  72.  42.  92.  76.\n",
      "  96. 128.  64. 110. 130. 108. 100. 112.  52. 146. 150. 120. 140.  84.\n",
      "  46. 114. 160.  54.  56.  38.  98.  50.  44.  70.  78.  49.  30. 136.\n",
      " 132.  65.  86. 129.  68.  36.  45. 124. 184.  75.  82.]\n",
      "[20. 24. 84. 35. nan 16. 36. 12. 52. 28. 48. 21. 60. 34. 42. 30. 96. 72.\n",
      " 15. 44. 32. 22. 18. 80. 40. 10. 51. 68. 66.  9. 14. 90.  8. 23. 58. 13.\n",
      " 70. 26. 88. 25. 50.]\n",
      "[nan  1.  4.  2.  3.]\n",
      "<IntegerArray>\n",
      "[3, 2, <NA>, 4, 5, 1]\n",
      "Length: 6, dtype: Int64\n",
      "<IntegerArray>\n",
      "[3, 1, 2, <NA>]\n",
      "Length: 4, dtype: Int64\n"
     ]
    }
   ],
   "source": [
    "print(horse_data['surgery'].unique())\n",
    "print(horse_data['age'].unique())\n",
    "print(horse_data['rectal_temperature'].unique())\n",
    "print(horse_data['pulse'].unique())\n",
    "print(horse_data['respiratory_rate'].unique())\n",
    "print(horse_data['temperature_of_extremities'].unique())\n",
    "print(horse_data['pain'].unique())\n",
    "print(horse_data['outcome'].unique())"
   ]
  },
  {
   "cell_type": "code",
   "execution_count": 13,
   "id": "1d989e46",
   "metadata": {},
   "outputs": [
    {
     "data": {
      "text/html": [
       "<div>\n",
       "<style scoped>\n",
       "    .dataframe tbody tr th:only-of-type {\n",
       "        vertical-align: middle;\n",
       "    }\n",
       "\n",
       "    .dataframe tbody tr th {\n",
       "        vertical-align: top;\n",
       "    }\n",
       "\n",
       "    .dataframe thead th {\n",
       "        text-align: right;\n",
       "    }\n",
       "</style>\n",
       "<table border=\"1\" class=\"dataframe\">\n",
       "  <thead>\n",
       "    <tr style=\"text-align: right;\">\n",
       "      <th></th>\n",
       "      <th>surgery</th>\n",
       "      <th>age</th>\n",
       "      <th>rectal_temperature</th>\n",
       "      <th>pulse</th>\n",
       "      <th>respiratory_rate</th>\n",
       "      <th>temperature_of_extremities</th>\n",
       "      <th>pain</th>\n",
       "      <th>outcome</th>\n",
       "    </tr>\n",
       "  </thead>\n",
       "  <tbody>\n",
       "    <tr>\n",
       "      <th>count</th>\n",
       "      <td>298.000000</td>\n",
       "      <td>299.00000</td>\n",
       "      <td>239.000000</td>\n",
       "      <td>275.000000</td>\n",
       "      <td>241.000000</td>\n",
       "      <td>243.000000</td>\n",
       "      <td>244.000000</td>\n",
       "      <td>298.000000</td>\n",
       "    </tr>\n",
       "    <tr>\n",
       "      <th>mean</th>\n",
       "      <td>1.395973</td>\n",
       "      <td>1.64214</td>\n",
       "      <td>38.166527</td>\n",
       "      <td>71.934545</td>\n",
       "      <td>30.427386</td>\n",
       "      <td>2.345679</td>\n",
       "      <td>2.942623</td>\n",
       "      <td>1.550336</td>\n",
       "    </tr>\n",
       "    <tr>\n",
       "      <th>std</th>\n",
       "      <td>0.489881</td>\n",
       "      <td>2.17730</td>\n",
       "      <td>0.733508</td>\n",
       "      <td>28.680522</td>\n",
       "      <td>17.678256</td>\n",
       "      <td>1.046369</td>\n",
       "      <td>1.303993</td>\n",
       "      <td>0.737967</td>\n",
       "    </tr>\n",
       "    <tr>\n",
       "      <th>min</th>\n",
       "      <td>1.000000</td>\n",
       "      <td>1.00000</td>\n",
       "      <td>35.400000</td>\n",
       "      <td>30.000000</td>\n",
       "      <td>8.000000</td>\n",
       "      <td>1.000000</td>\n",
       "      <td>1.000000</td>\n",
       "      <td>1.000000</td>\n",
       "    </tr>\n",
       "    <tr>\n",
       "      <th>25%</th>\n",
       "      <td>1.000000</td>\n",
       "      <td>1.00000</td>\n",
       "      <td>37.800000</td>\n",
       "      <td>48.000000</td>\n",
       "      <td>18.000000</td>\n",
       "      <td>1.000000</td>\n",
       "      <td>2.000000</td>\n",
       "      <td>1.000000</td>\n",
       "    </tr>\n",
       "    <tr>\n",
       "      <th>50%</th>\n",
       "      <td>1.000000</td>\n",
       "      <td>1.00000</td>\n",
       "      <td>38.200000</td>\n",
       "      <td>64.000000</td>\n",
       "      <td>24.000000</td>\n",
       "      <td>3.000000</td>\n",
       "      <td>3.000000</td>\n",
       "      <td>1.000000</td>\n",
       "    </tr>\n",
       "    <tr>\n",
       "      <th>75%</th>\n",
       "      <td>2.000000</td>\n",
       "      <td>1.00000</td>\n",
       "      <td>38.500000</td>\n",
       "      <td>88.000000</td>\n",
       "      <td>36.000000</td>\n",
       "      <td>3.000000</td>\n",
       "      <td>4.000000</td>\n",
       "      <td>2.000000</td>\n",
       "    </tr>\n",
       "    <tr>\n",
       "      <th>max</th>\n",
       "      <td>2.000000</td>\n",
       "      <td>9.00000</td>\n",
       "      <td>40.800000</td>\n",
       "      <td>184.000000</td>\n",
       "      <td>96.000000</td>\n",
       "      <td>4.000000</td>\n",
       "      <td>5.000000</td>\n",
       "      <td>3.000000</td>\n",
       "    </tr>\n",
       "  </tbody>\n",
       "</table>\n",
       "</div>"
      ],
      "text/plain": [
       "          surgery        age  rectal_temperature       pulse  \\\n",
       "count  298.000000  299.00000          239.000000  275.000000   \n",
       "mean     1.395973    1.64214           38.166527   71.934545   \n",
       "std      0.489881    2.17730            0.733508   28.680522   \n",
       "min      1.000000    1.00000           35.400000   30.000000   \n",
       "25%      1.000000    1.00000           37.800000   48.000000   \n",
       "50%      1.000000    1.00000           38.200000   64.000000   \n",
       "75%      2.000000    1.00000           38.500000   88.000000   \n",
       "max      2.000000    9.00000           40.800000  184.000000   \n",
       "\n",
       "       respiratory_rate  temperature_of_extremities        pain     outcome  \n",
       "count        241.000000                  243.000000  244.000000  298.000000  \n",
       "mean          30.427386                    2.345679    2.942623    1.550336  \n",
       "std           17.678256                    1.046369    1.303993    0.737967  \n",
       "min            8.000000                    1.000000    1.000000    1.000000  \n",
       "25%           18.000000                    1.000000    2.000000    1.000000  \n",
       "50%           24.000000                    3.000000    3.000000    1.000000  \n",
       "75%           36.000000                    3.000000    4.000000    2.000000  \n",
       "max           96.000000                    4.000000    5.000000    3.000000  "
      ]
     },
     "execution_count": 13,
     "metadata": {},
     "output_type": "execute_result"
    }
   ],
   "source": [
    "horse_data.describe()"
   ]
  },
  {
   "cell_type": "code",
   "execution_count": 14,
   "id": "fab102b7",
   "metadata": {},
   "outputs": [
    {
     "name": "stdout",
     "output_type": "stream",
     "text": [
      "Операция: 1\n",
      "Возраст: 1\n",
      "Ректальная температура: 38.0\n",
      "Пульс: 48.0\n",
      "Частота дыхания: 20.0\n",
      "Температура конечностей: 3.0\n",
      "Боль: 3\n",
      "Результат: 1\n"
     ]
    }
   ],
   "source": [
    "# Моды\n",
    "print('Операция:', horse_data['surgery'].mode()[0])\n",
    "print('Возраст:', horse_data['age'].mode()[0])\n",
    "print('Ректальная температура:', horse_data['rectal_temperature'].mode()[0])\n",
    "print('Пульс:', horse_data['pulse'].mode()[0])\n",
    "print('Частота дыхания:', horse_data['respiratory_rate'].mode()[0])\n",
    "print('Температура конечностей:', horse_data['temperature_of_extremities'].mode()[0])\n",
    "print('Боль:', horse_data['pain'].mode()[0])\n",
    "print('Результат:', horse_data['outcome'].mode()[0])"
   ]
  },
  {
   "cell_type": "code",
   "execution_count": 15,
   "id": "9d3bb5ab",
   "metadata": {},
   "outputs": [
    {
     "name": "stdout",
     "output_type": "stream",
     "text": [
      "Операция: 0.23998372991661587\n",
      "Возраст: 4.740634329195755\n",
      "Ректальная температура: 0.5380345276185787\n",
      "Пульс: 822.5723424021243\n",
      "Частота дыхания: 312.5207468879668\n",
      "Температура конечностей: 1.09488827670646\n",
      "Боль: 1.7003980300883765\n",
      "Результат: 0.5445958466092694\n"
     ]
    }
   ],
   "source": [
    "# Дисперсии\n",
    "print('Операция:', horse_data['surgery'].var())\n",
    "print('Возраст:', horse_data['age'].var())\n",
    "print('Ректальная температура:', horse_data['rectal_temperature'].var())\n",
    "print('Пульс:', horse_data['pulse'].var())\n",
    "print('Частота дыхания:', horse_data['respiratory_rate'].var())\n",
    "print('Температура конечностей:', horse_data['temperature_of_extremities'].var())\n",
    "print('Боль:', horse_data['pain'].var())\n",
    "print('Результат:', horse_data['outcome'].var())"
   ]
  },
  {
   "cell_type": "code",
   "execution_count": 28,
   "id": "35a9f2aa",
   "metadata": {},
   "outputs": [
    {
     "name": "stdout",
     "output_type": "stream",
     "text": [
      "Операция: 1\n",
      "Возраст: 0.0\n",
      "Ректальная температура: 0.7000000000000028\n",
      "Пульс: 40.0\n",
      "48.0\n",
      "88.0\n",
      "Частота дыхания: 18.0\n",
      "Температура конечностей: 2.0\n",
      "Боль: 2\n",
      "Результат: 1\n"
     ]
    }
   ],
   "source": [
    "#Квантили\n",
    "Q1_surgery = horse_data['surgery'].quantile(0.25)\n",
    "Q3_surgery = horse_data['surgery'].quantile(0.75)\n",
    "IQR_surgery = Q3_surgery - Q1_surgery\n",
    "print('Операция:', IQR_surgery)\n",
    "\n",
    "\n",
    "Q1_age = horse_data['age'].quantile(0.25)\n",
    "Q3_age = horse_data['age'].quantile(0.75)\n",
    "IQR_age = Q3_age - Q1_age\n",
    "print('Возраст:', IQR_age)\n",
    "\n",
    "Q1_rectal_temperature = horse_data['rectal_temperature'].quantile(0.25)\n",
    "Q3_rectal_temperature = horse_data['rectal_temperature'].quantile(0.75)\n",
    "IQR_rectal_temperature = Q3_rectal_temperature - Q1_rectal_temperature\n",
    "print('Ректальная температура:', IQR_rectal_temperature)\n",
    "\n",
    "Q1_pulse = horse_data['pulse'].quantile(0.25)\n",
    "Q3_pulse = horse_data['pulse'].quantile(0.75)\n",
    "IQR_pulse = Q3_pulse - Q1_pulse\n",
    "print('Пульс:', IQR_pulse)\n",
    "print(Q1_pulse)\n",
    "print(Q3_pulse)\n",
    "\n",
    "Q1_respiratory_rate = horse_data['respiratory_rate'].quantile(0.25)\n",
    "Q3_respiratory_rate = horse_data['respiratory_rate'].quantile(0.75)\n",
    "IQR_respiratory_rate = Q3_respiratory_rate - Q1_respiratory_rate\n",
    "print('Частота дыхания:', IQR_respiratory_rate)\n",
    "\n",
    "Q1_temperature_of_extremities = horse_data['temperature_of_extremities'].quantile(0.25)\n",
    "Q3_temperature_of_extremities = horse_data['temperature_of_extremities'].quantile(0.75)\n",
    "IQR_temperature_of_extremities = Q3_temperature_of_extremities - Q1_temperature_of_extremities\n",
    "print('Температура конечностей:', IQR_temperature_of_extremities)\n",
    "\n",
    "Q1_pain = horse_data['pain'].quantile(0.25)\n",
    "Q3_pain = horse_data['pain'].quantile(0.75)\n",
    "IQR_pain = Q3_pain - Q1_pain\n",
    "print('Боль:', IQR_pain)\n",
    "\n",
    "Q1_outcome = horse_data['outcome'].quantile(0.25)\n",
    "Q3_outcome = horse_data['outcome'].quantile(0.75)\n",
    "IQR_outcome = Q3_outcome - Q1_outcome\n",
    "print('Результат:', IQR_outcome)"
   ]
  },
  {
   "cell_type": "code",
   "execution_count": 27,
   "id": "e4b026f8",
   "metadata": {},
   "outputs": [
    {
     "data": {
      "text/html": [
       "<div>\n",
       "<style scoped>\n",
       "    .dataframe tbody tr th:only-of-type {\n",
       "        vertical-align: middle;\n",
       "    }\n",
       "\n",
       "    .dataframe tbody tr th {\n",
       "        vertical-align: top;\n",
       "    }\n",
       "\n",
       "    .dataframe thead th {\n",
       "        text-align: right;\n",
       "    }\n",
       "</style>\n",
       "<table border=\"1\" class=\"dataframe\">\n",
       "  <thead>\n",
       "    <tr style=\"text-align: right;\">\n",
       "      <th></th>\n",
       "      <th>surgery</th>\n",
       "      <th>age</th>\n",
       "      <th>rectal_temperature</th>\n",
       "      <th>pulse</th>\n",
       "      <th>respiratory_rate</th>\n",
       "      <th>temperature_of_extremities</th>\n",
       "      <th>pain</th>\n",
       "      <th>outcome</th>\n",
       "    </tr>\n",
       "  </thead>\n",
       "  <tbody>\n",
       "    <tr>\n",
       "      <th>131</th>\n",
       "      <td>&lt;NA&gt;</td>\n",
       "      <td>1</td>\n",
       "      <td>38.0</td>\n",
       "      <td>48.0</td>\n",
       "      <td>20.0</td>\n",
       "      <td>3.0</td>\n",
       "      <td>4</td>\n",
       "      <td>&lt;NA&gt;</td>\n",
       "    </tr>\n",
       "  </tbody>\n",
       "</table>\n",
       "</div>"
      ],
      "text/plain": [
       "     surgery  age  rectal_temperature  pulse  respiratory_rate  \\\n",
       "131     <NA>    1                38.0   48.0              20.0   \n",
       "\n",
       "     temperature_of_extremities  pain  outcome  \n",
       "131                         3.0     4     <NA>  "
      ]
     },
     "execution_count": 27,
     "metadata": {},
     "output_type": "execute_result"
    }
   ],
   "source": [
    "lower_bound_surgery = Q1_surgery - (1.5 * IQR_surgery) \n",
    "upper_bound_surgery = Q3_surgery + (1.5 * IQR_surgery)\n",
    "#remove_outliers_surgery = horse_data[horse_data['surgery']\\\n",
    " #                                    .between(lower_bound_surgery, upper_bound_surgery, inclusive=True)].sort_values('outcome')\n",
    "outliers_surgery = pd.concat([horse_data, remove_outliers_surgery]).drop_duplicates(keep=False)\n",
    "outliers_surgery.head()"
   ]
  },
  {
   "cell_type": "code",
   "execution_count": 40,
   "id": "35e6cbc1",
   "metadata": {},
   "outputs": [
    {
     "data": {
      "text/plain": [
       "<AxesSubplot:>"
      ]
     },
     "execution_count": 40,
     "metadata": {},
     "output_type": "execute_result"
    },
    {
     "data": {
      "image/png": "[encoded data removed]",
      "text/plain": [
       "<Figure size 432x288 with 1 Axes>"
      ]
     },
     "metadata": {
      "needs_background": "light"
     },
     "output_type": "display_data"
    }
   ],
   "source": [
    "#Значения Пульса и частота дыхания вызвали больше внимания, для удобства анализа, выведем на простенькой гистограмме\n",
    "horse_data.plot( y=[\"pulse\", \"respiratory_rate\"])"
   ]
  },
  {
   "cell_type": "markdown",
   "id": "e287e1fe",
   "metadata": {},
   "source": [
    "Видим, что значения сильно выбивающиеся действительно есть, в частности максимальное значение среди значений Пульс"
   ]
  },
  {
   "cell_type": "markdown",
   "id": "77cd0a95",
   "metadata": {},
   "source": [
    "# Задание 3 Работа с пропусками"
   ]
  },
  {
   "cell_type": "code",
   "execution_count": 31,
   "id": "c94ae6f9",
   "metadata": {},
   "outputs": [
    {
     "name": "stdout",
     "output_type": "stream",
     "text": [
      "<class 'pandas.core.frame.DataFrame'>\n",
      "RangeIndex: 299 entries, 0 to 298\n",
      "Data columns (total 8 columns):\n",
      " #   Column                      Non-Null Count  Dtype  \n",
      "---  ------                      --------------  -----  \n",
      " 0   surgery                     298 non-null    Int64  \n",
      " 1   age                         299 non-null    int64  \n",
      " 2   rectal_temperature          239 non-null    float64\n",
      " 3   pulse                       275 non-null    float64\n",
      " 4   respiratory_rate            241 non-null    float64\n",
      " 5   temperature_of_extremities  243 non-null    float64\n",
      " 6   pain                        244 non-null    Int64  \n",
      " 7   outcome                     298 non-null    Int64  \n",
      "dtypes: Int64(3), float64(4), int64(1)\n",
      "memory usage: 19.7 KB\n"
     ]
    }
   ],
   "source": [
    "horse_data.info()"
   ]
  },
  {
   "cell_type": "markdown",
   "id": "4813540b",
   "metadata": {},
   "source": [
    "Видим, что практически в каждом стобце есть пробелы в значениях, однако действия по заполнению будут различны.\n",
    "Например: в столбцах \"surgery\" и \"outcome\" не хватает всего по 1 значению. Моды в этих столбцах приближены к остальным признаки приближены к модам этих признаков всего датафрейма - заполняем их модальными значениями."
   ]
  },
  {
   "cell_type": "code",
   "execution_count": 32,
   "id": "bad823e4",
   "metadata": {},
   "outputs": [
    {
     "name": "stdout",
     "output_type": "stream",
     "text": [
      "0\n",
      "<IntegerArray>\n",
      "[1, 2]\n",
      "Length: 2, dtype: Int64\n",
      "0\n",
      "<IntegerArray>\n",
      "[3, 1, 2]\n",
      "Length: 3, dtype: Int64\n"
     ]
    }
   ],
   "source": [
    "horse_data['surgery'].fillna(horse_data['surgery'].mode()[0], inplace=True)\n",
    "print(horse_data['surgery'].isna().sum())\n",
    "print(horse_data['surgery'].unique())\n",
    "\n",
    "horse_data['outcome'].fillna(horse_data['outcome'].mode()[0], inplace=True)\n",
    "print(horse_data['outcome'].isna().sum())\n",
    "print(horse_data['outcome'].unique())"
   ]
  },
  {
   "cell_type": "markdown",
   "id": "8618b16a",
   "metadata": {},
   "source": [
    "Проверим чем будем заполнить значения в столбце \"pain\""
   ]
  },
  {
   "cell_type": "code",
   "execution_count": 34,
   "id": "222d4a96",
   "metadata": {},
   "outputs": [
    {
     "name": "stdout",
     "output_type": "stream",
     "text": [
      "count    299.000000\n",
      "mean       2.953177\n",
      "std        1.177736\n",
      "min        1.000000\n",
      "25%        2.000000\n",
      "50%        3.000000\n",
      "75%        4.000000\n",
      "max        5.000000\n",
      "Name: pain, dtype: float64\n"
     ]
    }
   ],
   "source": [
    "fill_median = horse_data\n",
    "\n",
    "fill_median['pain'].fillna(horse_data['pain'].median(), inplace=True)\n",
    "print(fill_median['pain'].describe())"
   ]
  },
  {
   "cell_type": "code",
   "execution_count": 37,
   "id": "d3cc7900",
   "metadata": {},
   "outputs": [
    {
     "name": "stdout",
     "output_type": "stream",
     "text": [
      "count    299.000000\n",
      "mean       2.953177\n",
      "std        1.177736\n",
      "min        1.000000\n",
      "25%        2.000000\n",
      "50%        3.000000\n",
      "75%        4.000000\n",
      "max        5.000000\n",
      "Name: pain, dtype: float64\n"
     ]
    }
   ],
   "source": [
    "fill_moda = horse_data\n",
    "\n",
    "fill_moda['pain'].fillna(horse_data['pain'].mode()[0], inplace=True)\n",
    "print(fill_moda['pain'].describe())"
   ]
  },
  {
   "cell_type": "code",
   "execution_count": null,
   "id": "d1f5fca6",
   "metadata": {},
   "outputs": [],
   "source": [
    "Видим, что в независимости о того чем заполнять (модой или медианой), общие характеристики набора данных не меняются. Поэтому можно заполнить модой"
   ]
  },
  {
   "cell_type": "code",
   "execution_count": 38,
   "id": "e7979185",
   "metadata": {},
   "outputs": [
    {
     "name": "stdout",
     "output_type": "stream",
     "text": [
      "<class 'pandas.core.frame.DataFrame'>\n",
      "RangeIndex: 299 entries, 0 to 298\n",
      "Data columns (total 8 columns):\n",
      " #   Column                      Non-Null Count  Dtype  \n",
      "---  ------                      --------------  -----  \n",
      " 0   surgery                     299 non-null    Int64  \n",
      " 1   age                         299 non-null    int64  \n",
      " 2   rectal_temperature          239 non-null    float64\n",
      " 3   pulse                       275 non-null    float64\n",
      " 4   respiratory_rate            241 non-null    float64\n",
      " 5   temperature_of_extremities  243 non-null    float64\n",
      " 6   pain                        299 non-null    Int64  \n",
      " 7   outcome                     299 non-null    Int64  \n",
      "dtypes: Int64(3), float64(4), int64(1)\n",
      "memory usage: 19.7 KB\n"
     ]
    }
   ],
   "source": [
    "horse_data['pain'].fillna(horse_data['pain'].mode()[0], inplace=True)\n",
    "horse_data.info()"
   ]
  },
  {
   "cell_type": "markdown",
   "id": "4749441b",
   "metadata": {},
   "source": [
    "В данных столбцах есть выбросы, которые мы оставляем. Соответственно заполняем пропуски в этих столбцах медианами в разрезе категориальных признаков."
   ]
  },
  {
   "cell_type": "code",
   "execution_count": 42,
   "id": "edae0d20",
   "metadata": {},
   "outputs": [
    {
     "name": "stdout",
     "output_type": "stream",
     "text": [
      "<class 'pandas.core.frame.DataFrame'>\n",
      "RangeIndex: 299 entries, 0 to 298\n",
      "Data columns (total 8 columns):\n",
      " #   Column                      Non-Null Count  Dtype  \n",
      "---  ------                      --------------  -----  \n",
      " 0   surgery                     299 non-null    Int64  \n",
      " 1   age                         299 non-null    int64  \n",
      " 2   rectal_temperature          299 non-null    float64\n",
      " 3   pulse                       299 non-null    float64\n",
      " 4   respiratory_rate            299 non-null    float64\n",
      " 5   temperature_of_extremities  299 non-null    float64\n",
      " 6   pain                        299 non-null    Int64  \n",
      " 7   outcome                     299 non-null    Int64  \n",
      "dtypes: Int64(3), float64(4), int64(1)\n",
      "memory usage: 19.7 KB\n"
     ]
    }
   ],
   "source": [
    "horse_data['rectal_temperature'].fillna(horse_data.groupby(['surgery', 'age'])['rectal_temperature'].transform('median'), inplace=True)\n",
    "horse_data['pulse'].fillna(horse_data.groupby(['pain', 'age'])['pulse'].transform('median'), inplace=True)\n",
    "horse_data['temperature_of_extremities'].fillna(horse_data.groupby(['age', 'outcome'])['temperature_of_extremities'].transform('median'), inplace=True)\n",
    "horse_data['respiratory_rate'].fillna(horse_data.groupby(['outcome', 'age'])['respiratory_rate'].transform('median'), inplace=True)\n",
    "horse_data['respiratory_rate'].fillna(horse_data['respiratory_rate'].median(), inplace=True)\n",
    "horse_data.info()"
   ]
  },
  {
   "cell_type": "code",
   "execution_count": null,
   "id": "d2002917",
   "metadata": {},
   "outputs": [],
   "source": []
  }
 ],
 "metadata": {
  "kernelspec": {
   "display_name": "Python 3 (ipykernel)",
   "language": "python",
   "name": "python3"
  },
  "language_info": {
   "codemirror_mode": {
    "name": "ipython",
    "version": 3
   },
   "file_extension": ".py",
   "mimetype": "text/x-python",
   "name": "python",
   "nbconvert_exporter": "python",
   "pygments_lexer": "ipython3",
   "version": "3.9.7"
  }
 },
 "nbformat": 4,
 "nbformat_minor": 5
}
